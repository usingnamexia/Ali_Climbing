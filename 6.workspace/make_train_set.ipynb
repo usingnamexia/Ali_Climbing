{
 "cells": [
  {
   "cell_type": "code",
   "execution_count": 2,
   "metadata": {},
   "outputs": [],
   "source": [
    "import sys\n",
    "import os\n",
    "import time\n",
    "import cv2\n",
    "import numpy as np\n",
    "import torch\n",
    "import matplotlib.pyplot as plt\n",
    "%matplotlib inline\n",
    "import json"
   ]
  },
  {
   "cell_type": "code",
   "execution_count": 3,
   "metadata": {},
   "outputs": [],
   "source": [
    "sys.path.append(\"../0.mc_utils/\")"
   ]
  },
  {
   "cell_type": "code",
   "execution_count": 4,
   "metadata": {},
   "outputs": [
    {
     "name": "stdout",
     "output_type": "stream",
     "text": [
      ">>>syp_hmr_e2e path:D:\\xiga_workspace\\20200627-3dat-v2.2-2D\\0.mc_utils\\syp_hmr_e2e\n"
     ]
    }
   ],
   "source": [
    "from detector.yolov4_config import YOLO_CFG\n",
    "from detector.yolov4_wrapper import YoloV4Detector\n",
    "\n",
    "from common.one_eurio_filter import OneEuroFilter\n",
    "from common.unity_visualizer import draw_kp2d_to_image\n",
    "from common.tools_cv import draw_kp\n",
    "\n",
    "from syp_hmr_e2e.x2ds_config import X2DS_CPN50_CFG\n",
    "from syp_hmr_e2e.x2ds_cpn50_wrapper import X2dsCPN50Wrapper"
   ]
  },
  {
   "cell_type": "code",
   "execution_count": 5,
   "metadata": {},
   "outputs": [],
   "source": [
    "WIDTH=56\n",
    "HEIGHT=56\n",
    "device= \"cuda:0\"\n",
    "\n",
    "x2ds_filter = OneEuroFilter(min_cutoff=0.05, beta=0.03,d_cutoff=0.02)"
   ]
  },
  {
   "cell_type": "code",
   "execution_count": 6,
   "metadata": {},
   "outputs": [
    {
     "name": "stdout",
     "output_type": "stream",
     "text": [
      "classes: [0]\n",
      "confidence_threshold: 0.5\n",
      "device: cuda:0\n",
      "framesize: 320\n",
      "iou_threshold: 0.6\n",
      "model: ../12.models/yolov5/yolov5s.pt\n",
      ">>>YoloV4 loaded D:\\xiga_workspace\\20200627-3dat-v2.2-2D\\12.models\\yolov5\\yolov5s.pt making a random inference.\n"
     ]
    }
   ],
   "source": [
    "cfg = YOLO_CFG.clone()\n",
    "# cfg.confidence_threshold=0.8\n",
    "cfg.device = device\n",
    "cfg.framesize = 320\n",
    "print(cfg)\n",
    "human_detector = YoloV4Detector()"
   ]
  },
  {
   "cell_type": "code",
   "execution_count": 7,
   "metadata": {},
   "outputs": [
    {
     "name": "stdout",
     "output_type": "stream",
     "text": [
      "basic:\n",
      "  crop_scale: (1.0, 1.1)\n",
      "  down_scale: 4.0\n",
      "  hmap_size: (56, 56)\n",
      "  out_size: (224, 224)\n",
      "  xyxy_conf_thresh: 0.7\n",
      "conf_reader:\n",
      "  conf_threashold: 0.1\n",
      "  sigma: 3.0\n",
      "device: cuda:0\n",
      "model: ../12.models/hmr_e2e/20200817-cpn50-224x224j20-2.pth\n",
      "network:\n",
      "  block_channels: 256\n",
      "  hmap_channels: 20\n",
      ">>>>Loaded model:../12.models/hmr_e2e/20200817-cpn50-224x224j20-2.pth making a random inference.\n"
     ]
    }
   ],
   "source": [
    "################\n",
    "## exp-resnet ##\n",
    "################\n",
    "x2ds_cfg = X2DS_CPN50_CFG.clone()\n",
    "x2ds_cfg.device = device\n",
    "x2ds_cfg.basic.xyxy_conf_thresh = 0.7\n",
    "x2ds_cfg.basic.crop_scale = (1.0,1.1)\n",
    "x2ds_cfg.conf_reader.sigma = 3.0\n",
    "x2ds_cfg.model = \"../12.models/hmr_e2e/20200817-cpn50-224x224j20-2.pth\"\n",
    "x2ds_cfg.network.hmap_channels = 20\n",
    "print(x2ds_cfg)\n",
    "x2ds_resnet50 = X2dsCPN50Wrapper(x2ds_cfg)"
   ]
  },
  {
   "cell_type": "code",
   "execution_count": 16,
   "metadata": {},
   "outputs": [],
   "source": [
    "video_fname = \"E:/test_videos/climbing/make_train_set/train_set1/VID_20200827_162058.mp4\"\n",
    "\n",
    "# 存储路径\n",
    "dst_fname = \"E:/test_videos/climbing/make_train_set/train_set1/imgs/\"\n",
    "\n",
    "cap = cv2.VideoCapture(video_fname)\n",
    "\n",
    "# cap = cv2.VideoCapture(0)\n",
    "cap.set(cv2.CAP_PROP_FRAME_WIDTH,1280)\n",
    "cap.set(cv2.CAP_PROP_FRAME_HEIGHT,720)\n",
    "\n",
    "\n",
    "window_name = \"yolov5-dsnt2d\"\n",
    "cv2.namedWindow(window_name)\n",
    "frame_count = 0\n",
    "framewidth = int(cap.get(cv2.CAP_PROP_FRAME_WIDTH)/2)\n",
    "frameheight = int(cap.get(cv2.CAP_PROP_FRAME_HEIGHT)/2)\n",
    "\n",
    "#\n",
    "fourcc = cv2.VideoWriter_fourcc(*'XVID')\n",
    "fps = cap.get(cv2.CAP_PROP_FPS)\n",
    "size = (framewidth*2, frameheight*2)\n",
    "\n",
    "im_number = 855\n",
    "kps_to_save = {\"person\":[{\"id\":0,\n",
    "                        \"bbox\":[],\n",
    "                        \"kp\":[]}]}\n",
    "while True:\n",
    "    is_valid,frame = cap.read()\n",
    "    if not is_valid:\n",
    "        break\n",
    "    frame_count += 1\n",
    "    #frame = cv2.resize(frame,(framewidth,frameheight))\n",
    "    ##step1 preprocess image\n",
    "    raw_image = cv2.cvtColor(frame,cv2.COLOR_BGR2RGB) #HxWxC\n",
    "\n",
    "    # 每隔10帧保存一张图片\n",
    "    if frame_count%10 == 0:\n",
    "        temp = frame.copy()\n",
    "        temp = cv2.resize(temp, (temp.shape[1]*2, temp.shape[0]*2)) # 1080x1920\n",
    "        cv2.imwrite(dst_fname + str(im_number).zfill(4) + \".jpg\", temp)\n",
    "        \n",
    "        \n",
    "        kps_to_save[\"im_name\"] = str(im_number).zfill(4) + \".jpg\"\n",
    "        \n",
    "        \n",
    "        ##step2.human detector\n",
    "        det_ret = human_detector(raw_image)\n",
    "        if det_ret is not None:\n",
    "            batch_xyxy = det_ret[\"xyxy\"]\n",
    "            batch_conf = det_ret[\"conf\"]\n",
    "            ##step2.prepare to 2D image\n",
    "            for i in range(batch_xyxy.shape[0]):\n",
    "                raw_xyxy = batch_xyxy[i]\n",
    "                cv2.rectangle(frame,(raw_xyxy[0],raw_xyxy[1]),(raw_xyxy[2],raw_xyxy[3]),(0,255,0),2)\n",
    "                cv2.putText(frame, \n",
    "                            \"P:{:.3}\".format(batch_conf[i]), (raw_xyxy[0],raw_xyxy[1]), \n",
    "                             cv2.FONT_HERSHEY_SIMPLEX, \n",
    "                             0.6, \n",
    "                             (0,255,0), \n",
    "                             1,\n",
    "                             cv2.LINE_AA)\n",
    "\n",
    "            ##step3.2D pose to heatmap\n",
    "            pred = x2ds_resnet50(raw_image,batch_xyxy,batch_conf)\n",
    "            if pred is not None:\n",
    "                pred_x2ds = pred[...,:2]\n",
    "                pred_conf = pred[...,-1:]\n",
    "                conf_x2ds = pred_x2ds*(pred_conf>0.1)\n",
    "\n",
    "                ##step6.visualize x2ds\n",
    "                frame = draw_kp(frame,conf_x2ds,fmt=\"mc16\",color=(0,255,0))\n",
    "                for i in range(len(pred_x2ds)):\n",
    "        #             draw_kp2d_to_image(pred_x2ds[i],frame,radius=4,font_scale=0.6,color=(0,255,0))\n",
    "                    draw_kp2d_to_image(conf_x2ds[i],frame,radius=4,font_scale=0.6,color=(255,0,0))\n",
    "        \n",
    "                    # kps\n",
    "                    x2ds_to_save = conf_x2ds[i].clone()\n",
    "                    x2ds_to_save = x2ds_to_save.cpu().numpy()*2 # 20x2\n",
    "                    x2ds_to_save = x2ds_to_save.tolist()\n",
    "                    for j in range(len(x2ds_to_save)):\n",
    "                        if not x2ds_to_save[j][0] and not x2ds_to_save[j][1]:\n",
    "                            x2ds_to_save[j].append(0.)\n",
    "                        else:\n",
    "                            x2ds_to_save[j].append(1.)\n",
    "                    kps_to_save[\"person\"][0][\"kp\"] = x2ds_to_save\n",
    "                \n",
    "        with open(dst_fname + str(im_number).zfill(4) + '.json','w') as f:\n",
    "            json.dump(kps_to_save,f)\n",
    "        im_number += 1\n",
    "    cv2.imshow(window_name,frame)\n",
    "    if cv2.waitKey(1) & 0xFF==ord('q'):\n",
    "        break\n",
    "cap.release()\n",
    "cv2.destroyAllWindows()"
   ]
  },
  {
   "cell_type": "code",
   "execution_count": 9,
   "metadata": {},
   "outputs": [],
   "source": [
    "cv2.destroyAllWindows()\n",
    "cap.release()"
   ]
  },
  {
   "cell_type": "code",
   "execution_count": 10,
   "metadata": {},
   "outputs": [
    {
     "data": {
      "text/plain": [
       "\u001b[1;31mType:\u001b[0m        NoneType\n",
       "\u001b[1;31mString form:\u001b[0m None\n",
       "\u001b[1;31mDocstring:\u001b[0m   <no docstring>\n"
      ]
     },
     "metadata": {},
     "output_type": "display_data"
    }
   ],
   "source": []
  },
  {
   "cell_type": "code",
   "execution_count": 19,
   "metadata": {},
   "outputs": [],
   "source": [
    "a = frame.copy()"
   ]
  },
  {
   "cell_type": "code",
   "execution_count": 1,
   "metadata": {},
   "outputs": [],
   "source": [
    "a = [[1,1], [2,2]]"
   ]
  },
  {
   "cell_type": "code",
   "execution_count": 2,
   "metadata": {},
   "outputs": [
    {
     "data": {
      "text/plain": [
       "[[1, 1], [2, 2]]"
      ]
     },
     "execution_count": 2,
     "metadata": {},
     "output_type": "execute_result"
    }
   ],
   "source": [
    "a"
   ]
  },
  {
   "cell_type": "code",
   "execution_count": 3,
   "metadata": {},
   "outputs": [],
   "source": [
    "a = 0.\n"
   ]
  },
  {
   "cell_type": "code",
   "execution_count": 4,
   "metadata": {},
   "outputs": [
    {
     "data": {
      "text/plain": [
       "0.0"
      ]
     },
     "execution_count": 4,
     "metadata": {},
     "output_type": "execute_result"
    }
   ],
   "source": [
    "a"
   ]
  },
  {
   "cell_type": "code",
   "execution_count": 5,
   "metadata": {},
   "outputs": [
    {
     "name": "stdout",
     "output_type": "stream",
     "text": [
      "True\n"
     ]
    }
   ],
   "source": [
    "if not a:\n",
    "    print(True)"
   ]
  },
  {
   "cell_type": "code",
   "execution_count": null,
   "metadata": {},
   "outputs": [],
   "source": []
  }
 ],
 "metadata": {
  "kernelspec": {
   "display_name": "Python 3",
   "language": "python",
   "name": "python3"
  },
  "language_info": {
   "codemirror_mode": {
    "name": "ipython",
    "version": 3
   },
   "file_extension": ".py",
   "mimetype": "text/x-python",
   "name": "python",
   "nbconvert_exporter": "python",
   "pygments_lexer": "ipython3",
   "version": "3.6.10"
  }
 },
 "nbformat": 4,
 "nbformat_minor": 4
}
