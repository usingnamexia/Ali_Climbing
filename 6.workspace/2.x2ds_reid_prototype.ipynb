{
 "cells": [
  {
   "cell_type": "code",
   "execution_count": 1,
   "metadata": {},
   "outputs": [],
   "source": [
    "import sys\n",
    "import os\n",
    "import cv2\n",
    "import numpy as np\n",
    "import torch\n",
    "\n",
    "from ortools.graph import pywrapgraph"
   ]
  },
  {
   "cell_type": "code",
   "execution_count": 2,
   "metadata": {},
   "outputs": [],
   "source": [
    "sys.path.append(\"../0.mc_utils/\")"
   ]
  },
  {
   "cell_type": "code",
   "execution_count": 3,
   "metadata": {},
   "outputs": [],
   "source": [
    "from openpose.op_utils import play_ob25b_on_video,draw_reided_bboxes,draw_kp2d_to_image\n",
    "from common.geometry_reid import GeometryReID"
   ]
  },
  {
   "cell_type": "code",
   "execution_count": 4,
   "metadata": {},
   "outputs": [],
   "source": [
    "video_fname = \"E:/4.test_videos/basket_1.mp4\"\n",
    "npz_fname = \"E:/20190727-area51/basket_1/op25b_x2ds.npz\"\n",
    "# video_fname = \"E:/4.test_videos/4.shotput/cap_20190227_110117_c400260.mp4\"\n",
    "# npz_fname = \"E:/20190727-area51/cap_20190227_110117_c400260/op25b_x2ds.npz\"\n",
    "# video_fname = \"E:/4.test_videos/dance2.mp4\"\n",
    "# npz_fname = \"E:/20190727-area51/dance2//op25b_x2ds.npz\"\n",
    "\n",
    "ret_op25b_x2ds = np.load(npz_fname,allow_pickle=True)[\"op25b\"].item()"
   ]
  },
  {
   "cell_type": "code",
   "execution_count": 5,
   "metadata": {},
   "outputs": [],
   "source": [
    "# play_ob25b_on_video(video_fname,ret_op25b_x2ds,interval=30)"
   ]
  },
  {
   "cell_type": "code",
   "execution_count": 9,
   "metadata": {},
   "outputs": [
    {
     "name": "stdout",
     "output_type": "stream",
     "text": [
      ">>>reid:[[0, 8], [1, 3]]<<<<<<<<<<<<<<<<<<<<<<<<"
     ]
    }
   ],
   "source": [
    "cap = cv2.VideoCapture(video_fname)\n",
    "fps = cap.get(cv2.CAP_PROP_FPS)\n",
    "interval = int(1000//fps)\n",
    "frames = int(cap.get(cv2.CAP_PROP_FRAME_COUNT))\n",
    "cv2.namedWindow(\"frame_show\")\n",
    "\n",
    "# select_joints = [0,12,14,11,13,6,8,5,7]\n",
    "select_joints = [0,5,6,11,12]\n",
    "\n",
    "geom_reid = GeometryReID(max_hp=300,max_cost=1e4)\n",
    "geom_reid.reset()\n",
    "for idx in range(frames):\n",
    "    is_valid,frame = cap.read()\n",
    "    h,w,c = frame.shape\n",
    "    if not is_valid:\n",
    "        break\n",
    "    if idx in ret_op25b_x2ds:\n",
    "        x2ds = ret_op25b_x2ds[idx]\n",
    "        N = x2ds.shape[0]\n",
    "        \n",
    "        #koad features and ReID\n",
    "        reid_masks = (x2ds[:,select_joints,-1:]>0.3)\n",
    "        reid_x2ds = x2ds[:,select_joints,:2]\n",
    "#         reid_x2ds = (2*reid_x2ds-h)/(1e-6+w)*1000*reid_masks\n",
    "        reid_x2ds = (2*reid_x2ds-h)/(1e-6+w)*1e4*reid_masks\n",
    "        reids = geom_reid(reid_x2ds.reshape(N,-1))\n",
    "        \n",
    "        sys.stdout.write(\"\\r>>>reid:{}<<<<<<<<<\".format(reids))\n",
    "        for pid in range(len(reids)):\n",
    "            hid,cost = reids[pid]\n",
    "            x2d = x2ds[pid,...,:2]\n",
    "            draw_reided_bboxes(frame,x2d,\">>{}\".format(hid))\n",
    "            draw_kp2d_to_image(frame,x2d)\n",
    "            \n",
    "    cv2.putText(frame, \n",
    "                \"frame:<{}>\".format(idx), (10,25), \n",
    "                cv2.FONT_HERSHEY_SIMPLEX, \n",
    "                0.6, \n",
    "                (0,255,0), \n",
    "                1,\n",
    "                cv2.LINE_AA)\n",
    "    cv2.imshow(\"frame_show\",frame)\n",
    "    if cv2.waitKey(interval) & 0xFF==ord('q'):\n",
    "        break\n",
    "cv2.destroyAllWindows()\n",
    "cap.release()"
   ]
  },
  {
   "cell_type": "code",
   "execution_count": null,
   "metadata": {},
   "outputs": [],
   "source": []
  },
  {
   "cell_type": "code",
   "execution_count": null,
   "metadata": {},
   "outputs": [],
   "source": []
  }
 ],
 "metadata": {
  "kernelspec": {
   "display_name": "Python 3",
   "language": "python",
   "name": "python3"
  },
  "language_info": {
   "codemirror_mode": {
    "name": "ipython",
    "version": 3
   },
   "file_extension": ".py",
   "mimetype": "text/x-python",
   "name": "python",
   "nbconvert_exporter": "python",
   "pygments_lexer": "ipython3",
   "version": "3.7.6"
  }
 },
 "nbformat": 4,
 "nbformat_minor": 4
}
