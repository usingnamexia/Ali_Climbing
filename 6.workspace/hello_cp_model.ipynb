{
 "cells": [
  {
   "cell_type": "code",
   "execution_count": 2,
   "metadata": {},
   "outputs": [],
   "source": [
    "from __future__ import absolute_import\n",
    "from __future__ import division\n",
    "from __future__ import print_function\n",
    "\n",
    "from ortools.sat.python import cp_model"
   ]
  },
  {
   "cell_type": "code",
   "execution_count": 3,
   "metadata": {},
   "outputs": [
    {
     "name": "stdout",
     "output_type": "stream",
     "text": [
      "Maximum of objective function: 35\n",
      "\n",
      "x value:  7\n",
      "y value:  3\n",
      "z value:  5\n"
     ]
    }
   ],
   "source": [
    "model = cp_model.CpModel()\n",
    "var_upper_bound = max(50, 45, 37)\n",
    "x = model.NewIntVar(0, var_upper_bound, 'x')\n",
    "y = model.NewIntVar(0, var_upper_bound, 'y')\n",
    "z = model.NewIntVar(0, var_upper_bound, 'z')\n",
    "\n",
    "model.Add(2*x + 7*y + 3*z <= 50)\n",
    "model.Add(3*x - 5*y + 7*z <= 45)\n",
    "model.Add(5*x + 2*y - 6*z <= 37)\n",
    "\n",
    "model.Maximize(2*x + 2*y + 3*z)\n",
    "\n",
    "solver = cp_model.CpSolver()\n",
    "status = solver.Solve(model)\n",
    "\n",
    "if status == cp_model.OPTIMAL:\n",
    "    print('Maximum of objective function: %i' % solver.ObjectiveValue())\n",
    "    print()\n",
    "    print('x value: ', solver.Value(x))\n",
    "    print('y value: ', solver.Value(y))\n",
    "    print('z value: ', solver.Value(z))"
   ]
  },
  {
   "cell_type": "code",
   "execution_count": null,
   "metadata": {},
   "outputs": [],
   "source": []
  }
 ],
 "metadata": {
  "kernelspec": {
   "display_name": "Python 3",
   "language": "python",
   "name": "python3"
  },
  "language_info": {
   "codemirror_mode": {
    "name": "ipython",
    "version": 3
   },
   "file_extension": ".py",
   "mimetype": "text/x-python",
   "name": "python",
   "nbconvert_exporter": "python",
   "pygments_lexer": "ipython3",
   "version": "3.7.6"
  }
 },
 "nbformat": 4,
 "nbformat_minor": 4
}
