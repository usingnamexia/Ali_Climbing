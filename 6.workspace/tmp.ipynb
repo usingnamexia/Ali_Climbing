{
 "cells": [
  {
   "cell_type": "code",
   "execution_count": 1,
   "metadata": {},
   "outputs": [],
   "source": [
    "import os\n",
    "import sys\n",
    "import cv2\n",
    "import torch\n",
    "from torch.utils.data import DataLoader"
   ]
  },
  {
   "cell_type": "code",
   "execution_count": 2,
   "metadata": {},
   "outputs": [],
   "source": [
    "from climb_dataset import ClimbDataset"
   ]
  },
  {
   "cell_type": "code",
   "execution_count": 3,
   "metadata": {},
   "outputs": [],
   "source": [
    "sys.path.append(\"../0.mc_utils/\")"
   ]
  },
  {
   "cell_type": "code",
   "execution_count": 4,
   "metadata": {},
   "outputs": [
    {
     "name": "stdout",
     "output_type": "stream",
     "text": [
      ">>>lodding from:\n",
      "   Annot:[D:/10.datasets/climbing/annots/]\n",
      "   Image:[D:/10.datasets/climbing/imgs/]\n"
     ]
    }
   ],
   "source": [
    "climb_dset = ClimbDataset(annot_fname=\"D:/10.datasets/climbing/annots/\",\n",
    "                          image_path=\"D:/10.datasets/climbing/imgs/\")"
   ]
  },
  {
   "cell_type": "code",
   "execution_count": 5,
   "metadata": {},
   "outputs": [
    {
     "data": {
      "text/plain": [
       "597"
      ]
     },
     "execution_count": 5,
     "metadata": {},
     "output_type": "execute_result"
    }
   ],
   "source": [
    "len(climb_dset)"
   ]
  },
  {
   "cell_type": "code",
   "execution_count": 6,
   "metadata": {},
   "outputs": [
    {
     "name": "stdout",
     "output_type": "stream",
     "text": [
      "D:/10.datasets/climbing/imgs/0055.jpg\n",
      "(1, 20, 3)\n"
     ]
    }
   ],
   "source": [
    "path = climb_dset[55][\"path\"]\n",
    "x2ds = climb_dset[55][\"x2ds\"]\n",
    "print(path)\n",
    "print(x2ds.shape)"
   ]
  },
  {
   "cell_type": "code",
   "execution_count": 7,
   "metadata": {},
   "outputs": [],
   "source": [
    "new_x2ds = x2ds.squeeze()\n",
    "new_x2ds = new_x2ds[:,:2]"
   ]
  },
  {
   "cell_type": "code",
   "execution_count": 19,
   "metadata": {},
   "outputs": [],
   "source": [
    "img = cv2.imread(path)"
   ]
  },
  {
   "cell_type": "code",
   "execution_count": 21,
   "metadata": {},
   "outputs": [],
   "source": [
    "# draw keypoints and \n",
    "for i in range(14):\n",
    "    cv2.circle(img, (int(new_x2ds[i][0]),int(new_x2ds[i][1])), 30, (0,255,0))\n",
    "    cv2.putText(img, str(i), (int(new_x2ds[i][0]),int(new_x2ds[i][1])), cv2.FONT_HERSHEY_SIMPLEX, 5, (255,0,0), 3)"
   ]
  },
  {
   "cell_type": "code",
   "execution_count": 22,
   "metadata": {},
   "outputs": [],
   "source": [
    "cv2.circle(img, (int(new_x2ds[19][0]),int(new_x2ds[19][1])), 20, (0, 0, 255))\n",
    "cv2.imshow('a', img)\n",
    "cv2.waitKey(10010)\n",
    "cv2.destroyAllWindows()"
   ]
  },
  {
   "cell_type": "code",
   "execution_count": null,
   "metadata": {},
   "outputs": [],
   "source": []
  },
  {
   "cell_type": "code",
   "execution_count": 14,
   "metadata": {},
   "outputs": [
    {
     "data": {
      "text/plain": [
       "array([[1749.91252441,  800.86562805],\n",
       "       [1794.66247559,  663.47500305],\n",
       "       [1863.49064941,  476.09999084],\n",
       "       [1839.49064941,  482.09999084],\n",
       "       [1828.17810059,  682.84997864],\n",
       "       [1842.97492676,  882.63122864],\n",
       "       [1750.69372559,  120.89687805],\n",
       "       [1792.69372559,  171.30312195],\n",
       "       [1829.89680176,  245.69374695],\n",
       "       [1725.49064941,  244.50625305],\n",
       "       [1634.28742676,  210.89687805],\n",
       "       [1630.69372559,  131.69374695],\n",
       "       [1765.10002441,  234.89687805],\n",
       "       [1700.28742676,  209.69374695],\n",
       "       [   0.        ,    0.        ],\n",
       "       [   0.        ,    0.        ],\n",
       "       [   0.        ,    0.        ],\n",
       "       [   0.        ,    0.        ],\n",
       "       [   0.        ,    0.        ],\n",
       "       [   0.        ,    0.        ]])"
      ]
     },
     "execution_count": 14,
     "metadata": {},
     "output_type": "execute_result"
    }
   ],
   "source": [
    "new_x2ds"
   ]
  },
  {
   "cell_type": "code",
   "execution_count": 23,
   "metadata": {},
   "outputs": [
    {
     "data": {
      "text/plain": [
       "(0, 0)"
      ]
     },
     "execution_count": 23,
     "metadata": {},
     "output_type": "execute_result"
    }
   ],
   "source": [
    "(int(new_x2ds[19][0]),int(new_x2ds[19][1]))"
   ]
  },
  {
   "cell_type": "code",
   "execution_count": null,
   "metadata": {},
   "outputs": [],
   "source": []
  }
 ],
 "metadata": {
  "kernelspec": {
   "display_name": "Python 3",
   "language": "python",
   "name": "python3"
  },
  "language_info": {
   "codemirror_mode": {
    "name": "ipython",
    "version": 3
   },
   "file_extension": ".py",
   "mimetype": "text/x-python",
   "name": "python",
   "nbconvert_exporter": "python",
   "pygments_lexer": "ipython3",
   "version": "3.6.10"
  }
 },
 "nbformat": 4,
 "nbformat_minor": 4
}
