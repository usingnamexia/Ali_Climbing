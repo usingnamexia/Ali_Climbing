{
 "cells": [
  {
   "cell_type": "code",
   "execution_count": 1,
   "metadata": {},
   "outputs": [],
   "source": [
    "import os\n",
    "import sys\n",
    "import cv2 \n",
    "import numpy as np\n",
    "import torch\n",
    "import torch.nn as nn\n",
    "import time\n",
    "import torch.nn.functional as F"
   ]
  },
  {
   "cell_type": "code",
   "execution_count": 2,
   "metadata": {},
   "outputs": [],
   "source": [
    "sys.path.append(\"../10.mc_utils/\")"
   ]
  },
  {
   "cell_type": "code",
   "execution_count": 3,
   "metadata": {},
   "outputs": [],
   "source": [
    "from common.mview_merge_kp3d import compute_rigid_rotation,fix_missed_pts\n",
    "from common.pose_solver import PoseSolver\n",
    "from common.one_eurio_filter import OneEuroFilter\n",
    "\n",
    "from wrappers.wrapper_mqtt_unity import WrapperMqttUnity3D\n",
    "from wrappers.pipeline_config import CFG"
   ]
  },
  {
   "cell_type": "code",
   "execution_count": 4,
   "metadata": {},
   "outputs": [],
   "source": [
    "pose_solver = PoseSolver(CFG.SOLVER.path)\n",
    "traj_offset=np.array([[0.,1.5,0.]])## this trajectory is useless, just for local view"
   ]
  },
  {
   "cell_type": "code",
   "execution_count": 5,
   "metadata": {},
   "outputs": [],
   "source": [
    "def load_kp3ds_to_torch(fname):\n",
    "    assert os.path.exists(fname)\n",
    "    raw_data = np.load(fname)\n",
    "    #step1.load pose 3D\n",
    "    gt_kp3ds = raw_data[\"kp3ds\"]\n",
    "    torch_gt_kp3ds = torch.from_numpy(gt_kp3ds).type(torch.float32)\n",
    "    \n",
    "    #step2.load trajectory\n",
    "    trajs = raw_data[\"trajs\"]\n",
    "\n",
    "    #step3.load confidences\n",
    "    confs = torch.from_numpy(raw_data[\"x2ds\"][...,-1]).type(torch.float32)\n",
    "    return [torch_gt_kp3ds,trajs,confs]"
   ]
  },
  {
   "cell_type": "code",
   "execution_count": 6,
   "metadata": {},
   "outputs": [],
   "source": [
    "#####\n",
    "## step1.load data from 2 views\n",
    "## NOTE: Since I have no time, I didn't sync frame by frame.\n",
    "##       Be sure each frame is synced!!!\n",
    "##       A is main view\n",
    "#####\n",
    "torch_gt_kp3ds_A,traj_A,conf_A = load_kp3ds_to_torch(\"E:/20200110-area51/shotput_cap_20190227_110117_c400244/processed_3d.npz\")\n",
    "torch_gt_kp3ds_B,traj_B,conf_B = load_kp3ds_to_torch(\"E:/20200110-area51/shotput_cap_20190227_110117_c400246/processed_3d.npz\")"
   ]
  },
  {
   "cell_type": "code",
   "execution_count": 7,
   "metadata": {},
   "outputs": [],
   "source": [
    "###\n",
    "## step1.pick frames\n",
    "##       you can write a frame sync algorithm to sync frames here.\n",
    "##       I simpley keep the short frames, and sync from the frame-0\n",
    "###\n",
    "N = min(torch_gt_kp3ds_A.shape[0],torch_gt_kp3ds_B.shape[0])\n",
    "## one simple way to sync is to use set to compute mutal frame indexs\n",
    "\n",
    "\n",
    "#step2.results list. and append the first pose from A\n",
    "result_list = []\n",
    "result_list.append(torch_gt_kp3ds_A[0])\n",
    "body_euro_filter = None\n",
    "\n",
    "#step3. merging poses\n",
    "for i in range(1,N):\n",
    "    s_A = torch_gt_kp3ds_A[i]\n",
    "    s_B = torch_gt_kp3ds_B[i]\n",
    "    s_prev = result_list[i-1]\n",
    "    \n",
    "    #step1.R mat\n",
    "    ##  From B rotate to A\n",
    "    R = compute_rigid_rotation(s_B,s_A)\n",
    "    s_BA = torch.matmul(R,s_B.reshape(-1,3).t()).t()\n",
    "    ## assemble to batch\n",
    "    batch_skels = torch.stack([s_A,s_BA])#2x17x3\n",
    "    batch_confs = torch.stack([conf_A[i],conf_B[i]])#2x17\n",
    "    \n",
    "    #step2.previous distances\n",
    "    dists = torch.norm(batch_skels-s_prev.unsqueeze(0),dim=-1)#2x17 distances\n",
    "    dists = torch.abs(torch.log10(dists+1e-8))*batch_confs#2x17\n",
    "    \n",
    "    #step3.compute weights\n",
    "    weights = F.softmax(dists,dim=0)#shape is 2x17\n",
    "    weights = weights.unsqueeze(-1)\n",
    "    \n",
    "    #step4.merge\n",
    "    merged_skel = (weights*batch_skels).sum(0)\n",
    "    \n",
    "    #step5.smoothing\n",
    "    ### NOTE, you can comment here off.\n",
    "    ###\n",
    "    if body_euro_filter is None:\n",
    "        body_euro_filter = OneEuroFilter(i,\n",
    "                                    merged_skel,\n",
    "                                    min_cutoff=0.05,\n",
    "                                    beta=0.03,\n",
    "                                    d_cutoff = 0.01)\n",
    "    merged_skel = body_euro_filter(i,merged_skel)\n",
    "    \n",
    "    #step6.save results.\n",
    "    result_list.append(merged_skel)\n",
    "merged_kp3ds = torch.stack(result_list)\n",
    "merged_kp3ds = merged_kp3ds.numpy()\n",
    "\n",
    "####\n",
    "## TODO:\n",
    "## add your saving record code here!!\n",
    "####"
   ]
  },
  {
   "cell_type": "code",
   "execution_count": 8,
   "metadata": {},
   "outputs": [],
   "source": [
    "#########################\n",
    "## step2.get Amats\n",
    "#########################\n",
    "Amats_merged,_ = pose_solver.push(kp3ds=  merged_kp3ds.reshape(-1,51),\n",
    "                                  traj = -traj_A[:N] + np.array([[0.,1.5,0.]]))\n",
    "\n",
    "Amats_A,_ = pose_solver.push(kp3ds=  torch_gt_kp3ds_A[:N].reshape(-1,51),\n",
    "                             traj = -traj_A[:N] + np.array([[2.0,1.5,0.]]))\n",
    "\n",
    "batch_Amats = np.array([Amats_merged,Amats_A])\n",
    "batch_ids = [0,1]"
   ]
  },
  {
   "cell_type": "code",
   "execution_count": 9,
   "metadata": {},
   "outputs": [
    {
     "name": "stdout",
     "output_type": "stream",
     "text": [
      ">>>Frame[1193]<<<<<"
     ]
    }
   ],
   "source": [
    "#step4.play\n",
    "wrapper_unity3d = WrapperMqttUnity3D()\n",
    "for i in range(N):\n",
    "    wrapper_unity3d(batch_ids,batch_Amats[:,i])\n",
    "    sys.stdout.write(\"\\r>>>Frame[{}]<<<<<\".format(i))\n",
    "    time.sleep(1.0/60)"
   ]
  },
  {
   "cell_type": "code",
   "execution_count": null,
   "metadata": {},
   "outputs": [],
   "source": []
  },
  {
   "cell_type": "code",
   "execution_count": null,
   "metadata": {},
   "outputs": [],
   "source": []
  }
 ],
 "metadata": {
  "kernelspec": {
   "display_name": "Python 3",
   "language": "python",
   "name": "python3"
  },
  "language_info": {
   "codemirror_mode": {
    "name": "ipython",
    "version": 3
   },
   "file_extension": ".py",
   "mimetype": "text/x-python",
   "name": "python",
   "nbconvert_exporter": "python",
   "pygments_lexer": "ipython3",
   "version": "3.7.6"
  }
 },
 "nbformat": 4,
 "nbformat_minor": 4
}
