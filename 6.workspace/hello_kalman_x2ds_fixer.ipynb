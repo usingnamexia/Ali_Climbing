{
 "cells": [
  {
   "cell_type": "code",
   "execution_count": 1,
   "metadata": {},
   "outputs": [],
   "source": [
    "import sys\n",
    "import os\n",
    "import torch\n",
    "import cv2\n",
    "import numpy as np"
   ]
  },
  {
   "cell_type": "code",
   "execution_count": 2,
   "metadata": {},
   "outputs": [],
   "source": [
    "sys.path.append(\"../0.mc_utils/\")"
   ]
  },
  {
   "cell_type": "code",
   "execution_count": 3,
   "metadata": {},
   "outputs": [],
   "source": [
    "from openpose.op_utils import play_ob25b_on_video\n",
    "# from openpose.op_formats import MapOP25bToSMPL24\n",
    "from common.joints_kalman import KalmanKP2D\n",
    "\n",
    "from common.tools_cv import draw_kp\n",
    "from openpose.op_utils import draw_kp2d_to_image,draw_reided_bboxes"
   ]
  },
  {
   "cell_type": "code",
   "execution_count": 4,
   "metadata": {},
   "outputs": [],
   "source": [
    "video_fname = \"E:/20190727-area51/skating_hp_81_02.mp4\""
   ]
  },
  {
   "cell_type": "code",
   "execution_count": 5,
   "metadata": {},
   "outputs": [],
   "source": [
    "raw_data = np.load(\"E:/20190727-area51/skating_hp_81_02_op25b_x2ds.npz\",allow_pickle=True)\n",
    "ret_op25b_x2ds = raw_data[\"op25b\"].item()\n",
    "play_ob25b_on_video(video_fname,ret_op25b_x2ds,interval=100)"
   ]
  },
  {
   "cell_type": "code",
   "execution_count": 6,
   "metadata": {},
   "outputs": [],
   "source": [
    "class NPMapOP25bToSMPL24:\n",
    "    \"\"\"\n",
    "    convert openpose 25b output format to SMPL24 format.\n",
    "    based on op25b's confidence\n",
    "    \"\"\"\n",
    "    def __init__(self,threshold=0.2):\n",
    "        self.select_index = [11,11,12,11,13,14,11,15,16,5,19,22,17,5,6,18,5,6,7,8,9,10,9,10]\n",
    "        self.mask = np.ones((1,24,1),dtype=np.float32)\n",
    "        self.mask[:,[3,9,13,14,22,23]] = 0.0\n",
    "        self.threshold = threshold\n",
    "        pass\n",
    "    \n",
    "    def synthesis_joint(self,masked_op25,viz25,joint_list):\n",
    "        return np.sum(masked_op25[:,joint_list],axis=1)/(np.sum(viz25[:,joint_list],axis=1)+1e-5)\n",
    "\n",
    "    def __call__(self,x2ds25b):\n",
    "        \"\"\"\n",
    "        x2ds25b shape is Nx25x(u,v,c)\n",
    "        \"\"\"\n",
    "        assert x2ds25b.shape[1:]==(25,3)\n",
    "        \n",
    "        #step1.get availables\n",
    "        viz25 = (x2ds25b[:,:,-1]>self.threshold).astype(np.int)[...,np.newaxis]#Nx25x1\n",
    "        masked_op25b = viz25 * x2ds25b\n",
    "        \n",
    "        #step2.basic conversion\n",
    "        x2ds_smpl24 = x2ds25b[:,self.select_index]\n",
    "        \n",
    "        #step3.fixing joints\n",
    "        x2ds_smpl24[:, 0] = self.synthesis_joint(masked_op25b,viz25,[11,12])\n",
    "        x2ds_smpl24[:,12] = np.where(x2ds_smpl24[:,12,-1:]>self.threshold,\n",
    "                                        x2ds_smpl24[:,12],\n",
    "                                        self.synthesis_joint(masked_op25b,viz25,[5,6]))\n",
    "        x2ds_smpl24[:,15] = np.where(x2ds_smpl24[:,15,-1:]>self.threshold,\n",
    "                                        x2ds_smpl24[:,15],\n",
    "                                        self.synthesis_joint(masked_op25b,viz25,[0,1,2,3,4,18]))\n",
    "        x2ds_smpl24[:, 6] = x2ds_smpl24[:,0]*0.6 + x2ds_smpl24[:,12]*0.4\n",
    "        \n",
    "        #step4.final output\n",
    "        x2ds_smpl24 *= self.mask\n",
    "        return x2ds_smpl24\n"
   ]
  },
  {
   "cell_type": "code",
   "execution_count": 7,
   "metadata": {},
   "outputs": [],
   "source": [
    "class SMPL24Kalman:\n",
    "    def __init__(self,mask=None,min_frames=20):\n",
    "        #step1.mask\n",
    "        if mask is None:\n",
    "            mask = np.ones(24)\n",
    "            mask[[3,9,13,14,22,23]] = 0\n",
    "        \n",
    "        #step2.create kalmans\n",
    "        assert mask.shape==(24,)\n",
    "        self.kalman_dict = {}\n",
    "        for i in range(24):\n",
    "            if mask[i]==0:\n",
    "                continue\n",
    "            self.kalman_dict[i] = KalmanKP2D()\n",
    "        \n",
    "        #step3.empty kalmans\n",
    "        self.reset()\n",
    "        self.min_frames = min_frames\n",
    "        \n",
    "    def reset(self):\n",
    "        self.filted_x2ds = np.zeros((24,2),dtype=np.float32)\n",
    "        self.frame_counter = 0\n",
    "        \n",
    "    def x2ds_visible(self,x2ds):\n",
    "        return (abs(x2ds).sum(-1)>0)\n",
    "    \n",
    "    def __call__(self,x2ds):\n",
    "        \"\"\"\n",
    "        x2ds shape is 24x2\n",
    "        \"\"\"\n",
    "        assert x2ds.ndim==2 and x2ds.shape==(24,2)\n",
    "        viz = self.x2ds_visible(x2ds)        \n",
    "        for i in range(24):\n",
    "            #step1.if masked\n",
    "            if i not in self.kalman_dict:\n",
    "                self.filted_x2ds[i] = x2ds[i]\n",
    "                continue\n",
    "            #step2.if visible\n",
    "            if viz[i]:\n",
    "                self.kalman_dict[i].correct(x2ds[i])\n",
    "            else:\n",
    "                self.kalman_dict[i].correct(self.filted_x2ds[i])\n",
    "                \n",
    "            #step3.predict()\n",
    "            self.filted_x2ds[i] = self.kalman_dict[i].predict()\n",
    "        self.frame_counter += 1\n",
    "        ret_x2ds = self.filted_x2ds if self.frame_counter>self.min_frames else x2ds\n",
    "        return ret_x2ds"
   ]
  },
  {
   "cell_type": "code",
   "execution_count": 8,
   "metadata": {},
   "outputs": [],
   "source": [
    "def debug_dump_bboxes(image,kp2ds):\n",
    "    for i in range(kp2ds.shape[0]):\n",
    "        draw_reided_bboxes(image,kp2ds[i,...,:2],str(i))\n",
    "        draw_kp2d_to_image(image,kp2ds[i,...,:2])\n",
    "    draw_kp(image,kp2ds[...,:2],fmt=\"smpl24\",color=(255,255,255))"
   ]
  },
  {
   "cell_type": "code",
   "execution_count": 9,
   "metadata": {},
   "outputs": [],
   "source": [
    "def play_smpl24_on_video(video_fname,x2ds_dict,interval=-1):\n",
    "    #step1.video capture\n",
    "    cap = cv2.VideoCapture(video_fname)\n",
    "    fps = cap.get(cv2.CAP_PROP_FPS)\n",
    "    interval = int(1000//fps) if interval<0 else interval\n",
    "    frames = int(cap.get(cv2.CAP_PROP_FRAME_COUNT))\n",
    "    \n",
    "    #step2.map op25b to smpl24\n",
    "    map_op25b_to_smpl24 = NPMapOP25bToSMPL24()\n",
    "    smpl24_kalman = SMPL24Kalman()\n",
    "    \n",
    "    #step3.start play\n",
    "    cv2.namedWindow(\"frame_show\")\n",
    "    for idx in range(frames):\n",
    "        is_valid,frame = cap.read()\n",
    "        if not is_valid:\n",
    "            break\n",
    "        #draw x2ds to frame\n",
    "        if idx in x2ds_dict:\n",
    "            x2ds = map_op25b_to_smpl24(x2ds_dict[idx])\n",
    "            x2ds = smpl24_kalman(x2ds[0,...,:2])\n",
    "            debug_dump_bboxes(frame,x2ds[np.newaxis])\n",
    "            #debug_dump_bboxes(frame,x2ds)\n",
    "        \n",
    "        #draw basic info to frame\n",
    "        cv2.putText(frame, \"frame:<{}>\".format(idx), (10,25), cv2.FONT_HERSHEY_SIMPLEX, 0.6, (0,255,0), 1,cv2.LINE_AA)\n",
    "        cv2.imshow(\"frame_show\",frame)\n",
    "        if cv2.waitKey(interval) & 0xFF==ord('q'):\n",
    "            break\n",
    "    cv2.destroyAllWindows()\n",
    "    cap.release()"
   ]
  },
  {
   "cell_type": "code",
   "execution_count": 10,
   "metadata": {},
   "outputs": [],
   "source": [
    "play_smpl24_on_video(video_fname,ret_op25b_x2ds,interval=100)"
   ]
  },
  {
   "cell_type": "code",
   "execution_count": null,
   "metadata": {},
   "outputs": [],
   "source": []
  }
 ],
 "metadata": {
  "kernelspec": {
   "display_name": "Python 3",
   "language": "python",
   "name": "python3"
  },
  "language_info": {
   "codemirror_mode": {
    "name": "ipython",
    "version": 3
   },
   "file_extension": ".py",
   "mimetype": "text/x-python",
   "name": "python",
   "nbconvert_exporter": "python",
   "pygments_lexer": "ipython3",
   "version": "3.7.6"
  }
 },
 "nbformat": 4,
 "nbformat_minor": 4
}
