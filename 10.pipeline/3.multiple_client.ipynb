{
 "cells": [
  {
   "cell_type": "code",
   "execution_count": 1,
   "metadata": {},
   "outputs": [],
   "source": [
    "import cv2\n",
    "import sys\n",
    "import time\n",
    "import numpy as np\n",
    "np.set_printoptions(suppress=True)\n",
    "sys.path.append(\"../0.mc_utils/\")"
   ]
  },
  {
   "cell_type": "code",
   "execution_count": 2,
   "metadata": {},
   "outputs": [],
   "source": [
    "from pipeline.realtime_mview import client_cfg, MViewOP25bClient"
   ]
  },
  {
   "cell_type": "code",
   "execution_count": 3,
   "metadata": {},
   "outputs": [
    {
     "name": "stdout",
     "output_type": "stream",
     "text": [
      "camera_id: 700\n",
      "cmd_path: ../2.bins/op_mc_build/bin/16_synchronous_custom_output.exe\n",
      "fps_max: -1\n",
      "frame_height: 720\n",
      "frame_width: 1280\n",
      "host: 192.168.100.3\n",
      "id: 0\n",
      "keepalive: 300\n",
      "model_dir: ../12.models/op25b/\n",
      "net_resolution: 320\n",
      "num_gpu_start: 0\n",
      "num_gpus: -1\n",
      "num_people_max: 1\n",
      "port: 12222\n",
      "startup_wait_timeout: 8\n"
     ]
    }
   ],
   "source": [
    "local_cfg = client_cfg.clone()\n",
    "local_cfg.id = 0 ##set to 0 to be master\n",
    "# local_cfg.id = 1 ##set to 1, when to be client\n",
    "local_cfg.num_people_max = 1\n",
    "local_cfg.host = '192.168.100.3'\n",
    "local_cfg.freeze()\n",
    "print(local_cfg)"
   ]
  },
  {
   "cell_type": "code",
   "execution_count": 4,
   "metadata": {},
   "outputs": [],
   "source": [
    "m0 = MViewOP25bClient(local_cfg)"
   ]
  },
  {
   "cell_type": "code",
   "execution_count": null,
   "metadata": {},
   "outputs": [
    {
     "name": "stdout",
     "output_type": "stream",
     "text": [
      ">>>>executed:D:\\20200428-syp\\20200520-3dat-v2.1\\2.bins\\op_mc_build\\bin\\16_synchronous_custom_output.exe -model_folder D:\\20200428-syp\\20200520-3dat-v2.1\\12.models\\op25b -model_pose BODY_25B -num_gpu -1 -num_gpu_start 0 -number_people_max 1 -net_resolution -1x320 -fps_max -1 -camera 700 -camera_resolution 1280x720\n",
      " waitting op run ...1s\n",
      "\n"
     ]
    }
   ],
   "source": [
    "m0.run()"
   ]
  },
  {
   "cell_type": "code",
   "execution_count": null,
   "metadata": {},
   "outputs": [],
   "source": []
  }
 ],
 "metadata": {
  "kernelspec": {
   "display_name": "Python 3",
   "language": "python",
   "name": "python3"
  },
  "language_info": {
   "codemirror_mode": {
    "name": "ipython",
    "version": 3
   },
   "file_extension": ".py",
   "mimetype": "text/x-python",
   "name": "python",
   "nbconvert_exporter": "python",
   "pygments_lexer": "ipython3",
   "version": "3.7.0"
  }
 },
 "nbformat": 4,
 "nbformat_minor": 4
}
