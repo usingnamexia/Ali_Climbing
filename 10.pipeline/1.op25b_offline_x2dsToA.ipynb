{
 "cells": [
  {
   "cell_type": "code",
   "execution_count": 1,
   "metadata": {},
   "outputs": [],
   "source": [
    "import sys\n",
    "import os\n",
    "import cv2\n",
    "import numpy as np\n",
    "import torch\n",
    "sys.path.append(\"../0.mc_utils/\")\n",
    "from pipeline.global_cfg import CFG_SINGLE\n",
    "from pipeline.single_x2ds_to_A import SingleOP25bToA"
   ]
  },
  {
   "cell_type": "code",
   "execution_count": 2,
   "metadata": {},
   "outputs": [
    {
     "name": "stdout",
     "output_type": "stream",
     "text": [
      "HMR:\n",
      "  device: cuda:0\n",
      "  fix_joints: [22, 23]\n",
      "  hmr:\n",
      "    block_features: 2048\n",
      "    blocks: 4\n",
      "    final_features: 512\n",
      "    in_features: 48\n",
      "    model: ../12.models/mchmr2/20200516-hmrzero-b4f2048s10-vposer0420.pth\n",
      "    out_features: 48\n",
      "  vposer:\n",
      "    block_features: 1024\n",
      "    blocks: 3\n",
      "    latents: 32\n",
      "    model: ../12.models/mchmr2/20200420-vposer1024-lt32b3.pth\n",
      "K: [1145, 1145, 960.0, 540.0]\n",
      "MQTT_TX_UNITY:\n",
      "  host: 127.0.0.1\n",
      "  port: 12222\n",
      "  topic: mc3d_msg\n",
      "OP:\n",
      "  cmd_path: ../2.bins/op_mc_build/bin/16_synchronous_custom_output.exe\n",
      "  fps_max: 30\n",
      "  model_dir: ../12.models/op25b/\n",
      "  net_resolution: 304\n",
      "  num_gpu_start: 0\n",
      "  num_gpus: -1\n",
      "  num_people_max: 4\n",
      "  startup_wait_timeout: 9\n",
      "  threshold: 0.1\n",
      "REID:\n",
      "  cleanup_interval: 30\n",
      "  max_cost: 300.0\n",
      "  max_hp: 300\n",
      "enable_pose_smoothing: False\n",
      "frame_scale: 0.8\n",
      "traj_offset: [0.0, -1.2, 0.0]\n"
     ]
    }
   ],
   "source": [
    "CFG_SINGLE.defrost()\n",
    "##OP setting\n",
    "CFG_SINGLE.OP.net_resolution=304\n",
    "CFG_SINGLE.OP.num_people_max=4\n",
    "CFG_SINGLE.OP.threshold = 0.1\n",
    "CFG_SINGLE.OP.fps_max = 30\n",
    "\n",
    "##2D->3D posing\n",
    "CFG_SINGLE.HMR.fix_joints=[22,23]\n",
    "\n",
    "##REID\n",
    "CFG_SINGLE.REID.max_hp = 300\n",
    "# CFG_SINGLE.REID.max_cost = 1e4\n",
    "\n",
    "##SMOOTHING and common connfig\n",
    "CFG_SINGLE.enable_pose_smoothing = False\n",
    "CFG_SINGLE.traj_offset = [0.0,-1.2,0.0]\n",
    "CFG_SINGLE.frame_scale = 0.8\n",
    "CFG_SINGLE.K = [1145,1145,1920/2,1080/2]\n",
    "\n",
    "CFG_SINGLE.freeze()\n",
    "\n",
    "print(CFG_SINGLE)"
   ]
  },
  {
   "cell_type": "code",
   "execution_count": 3,
   "metadata": {},
   "outputs": [
    {
     "name": "stdout",
     "output_type": "stream",
     "text": [
      ">>>Loaded HMR from:../12.models/mchmr2/20200516-hmrzero-b4f2048s10-vposer0420.pth\n",
      ">>>Loaded VPoser from:../12.models/mchmr2/20200420-vposer1024-lt32b3.pth\n"
     ]
    }
   ],
   "source": [
    "offline_processor  = SingleOP25bToA(CFG_SINGLE)"
   ]
  },
  {
   "cell_type": "code",
   "execution_count": 9,
   "metadata": {
    "scrolled": true
   },
   "outputs": [
    {
     "name": "stdout",
     "output_type": "stream",
     "text": [
      "\n",
      ">>>Cleared ReID dict instances.\n"
     ]
    }
   ],
   "source": [
    "\n",
    "npz_fname = \"E:/20190727-area51/dance5/op25b_x2ds.npz\"\n",
    "video_fname = \"E:/4.test_videos/dance5.mp4\"\n",
    "\n",
    "offline_processor(video_fname,\n",
    "                  x2ds_npz_fname=npz_fname,\n",
    "                  interval=1,\n",
    "                  resize_scale=0.8)"
   ]
  },
  {
   "cell_type": "code",
   "execution_count": null,
   "metadata": {},
   "outputs": [],
   "source": [
    "import cv2\n",
    "cv2.destroyAllWindows()"
   ]
  },
  {
   "cell_type": "code",
   "execution_count": null,
   "metadata": {},
   "outputs": [],
   "source": []
  },
  {
   "cell_type": "code",
   "execution_count": null,
   "metadata": {},
   "outputs": [],
   "source": []
  }
 ],
 "metadata": {
  "kernelspec": {
   "display_name": "Python 3",
   "language": "python",
   "name": "python3"
  },
  "language_info": {
   "codemirror_mode": {
    "name": "ipython",
    "version": 3
   },
   "file_extension": ".py",
   "mimetype": "text/x-python",
   "name": "python",
   "nbconvert_exporter": "python",
   "pygments_lexer": "ipython3",
   "version": "3.7.0"
  }
 },
 "nbformat": 4,
 "nbformat_minor": 4
}
