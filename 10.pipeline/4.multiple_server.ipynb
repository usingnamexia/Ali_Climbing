{
 "cells": [
  {
   "cell_type": "code",
   "execution_count": 1,
   "metadata": {},
   "outputs": [],
   "source": [
    "import cv2\n",
    "import sys\n",
    "import time\n",
    "import numpy as np\n",
    "np.set_printoptions(suppress=True)\n",
    "sys.path.append(\"../0.mc_utils/\")"
   ]
  },
  {
   "cell_type": "code",
   "execution_count": 2,
   "metadata": {},
   "outputs": [],
   "source": [
    "from common.tools_cv import draw_kp,im_rate_resize\n",
    "from openpose.op_formats import NPMapOP25bToSMPL24\n",
    "from pipeline.realtime_mview import server_cfg, MViewOP25bServer\n",
    "from pipeline.mview_x2ds_to_A import DViewX2dsToA,CFG_MVIEW\n",
    "\n",
    "from mqtt_player.unity3d_mqtt_player import Unity3DMqttPlayer,MQTTPLAYER_CFG"
   ]
  },
  {
   "cell_type": "code",
   "execution_count": 3,
   "metadata": {},
   "outputs": [
    {
     "name": "stdout",
     "output_type": "stream",
     "text": [
      "host: 192.168.100.3\n",
      "keepalive: 300\n",
      "max_clients: 2\n",
      "port: 12222\n"
     ]
    }
   ],
   "source": [
    "server_cfg.defrost()\n",
    "server_cfg.host = '192.168.100.3'\n",
    "server_cfg.freeze()\n",
    "print(server_cfg)"
   ]
  },
  {
   "cell_type": "code",
   "execution_count": 4,
   "metadata": {},
   "outputs": [
    {
     "name": "stdout",
     "output_type": "stream",
     "text": [
      "K: [1100.0, 1100.0, 640.0, 360.0]\n",
      "MQTT_TX_UNITY:\n",
      "  host: 127.0.0.1\n",
      "  port: 12222\n",
      "  topic: mc3d_msg\n",
      "REID:\n",
      "  cleanup_interval: 30\n",
      "  max_cost: 200.0\n",
      "  max_hp: 300\n",
      "cameras: ['0', '1']\n",
      "device: cuda:0\n",
      "fusion:\n",
      "  device: cuda:0\n",
      "  fix_joints: [12, 22, 23]\n",
      "  hmr:\n",
      "    block_features: 2048\n",
      "    blocks: 5\n",
      "    final_features: 512\n",
      "    in_features: 96\n",
      "    model: ../12.models/mchmr2/20200510-hmrzeofusion-x2b5f2048s5-vposer0420-30.25.pth\n",
      "    out_features: 43\n",
      "  vposer:\n",
      "    block_features: 1024\n",
      "    blocks: 3\n",
      "    latents: 32\n",
      "    model: ../12.models/mchmr2/20200420-vposer1024-lt32b3.pth\n",
      "hmr:\n",
      "  block_features: 2048\n",
      "  blocks: 4\n",
      "  final_features: 512\n",
      "  in_features: 48\n",
      "  model: ../12.models/mchmr2/20200527-hmrzero-b4f2048s10-vposer0420-newmask.pth\n",
      "  out_features: 48\n",
      "main_camera: 0\n",
      "sub_camera: 1\n",
      "traj_offset: [0.0, -1.0, 0.0]\n"
     ]
    }
   ],
   "source": [
    "mview_to_A_cfg = CFG_MVIEW.clone()\n",
    "mview_to_A_cfg.defrost()\n",
    "mview_to_A_cfg.main_camera = '0'\n",
    "mview_to_A_cfg.sub_camera = '1'\n",
    "mview_to_A_cfg.cameras = ['0','1']\n",
    "mview_to_A_cfg.K = [1100.,1100.,640.,360.]\n",
    "mview_to_A_cfg.fusion.hmr.model=\"../12.models/mchmr2/20200510-hmrzeofusion-x2b5f2048s5-vposer0420-30.25.pth\"\n",
    "# mview_to_A_cfg.fusion.hmr.model=\"../12.models/mchmr2/20200528-hmrzeofusion-x2b5f2048s5-vposer0420.pth\"\n",
    "mview_to_A_cfg.hmr.model=\"../12.models/mchmr2/20200527-hmrzero-b4f2048s10-vposer0420-newmask.pth\"\n",
    "mview_to_A_cfg.freeze()\n",
    "print(mview_to_A_cfg)"
   ]
  },
  {
   "cell_type": "code",
   "execution_count": 5,
   "metadata": {},
   "outputs": [
    {
     "name": "stdout",
     "output_type": "stream",
     "text": [
      ">>>Loaded HMR from:../12.models/mchmr2/20200527-hmrzero-b4f2048s10-vposer0420-newmask.pth\n",
      ">>>Loaded HMR from:../12.models/mchmr2/20200510-hmrzeofusion-x2b5f2048s5-vposer0420-30.25.pth\n",
      ">>>Loaded VPoser from:../12.models/mchmr2/20200420-vposer1024-lt32b3.pth\n"
     ]
    }
   ],
   "source": [
    "mview_x2ds_to_A = DViewX2dsToA(mview_to_A_cfg)\n",
    "map_op25b_to_smpl24 = NPMapOP25bToSMPL24()\n",
    "mqtt_player = Unity3DMqttPlayer(MQTTPLAYER_CFG)\n",
    "server_m0 = MViewOP25bServer(server_cfg)"
   ]
  },
  {
   "cell_type": "code",
   "execution_count": null,
   "metadata": {},
   "outputs": [],
   "source": [
    "frame_index=0\n",
    "while True:\n",
    "    x2ds_dict = server_m0.dict_multiple_kp2ds.copy()\n",
    "#     server_m0.dict_multiple_kp2ds = {}\n",
    "    smpl24_dict = {}\n",
    "#     print(x2ds_dict)\n",
    "    for k in x2ds_dict:\n",
    "        ##step1.draw x2ds to image\n",
    "        im = np.zeros((720,1280,3)).astype(np.uint8)\n",
    "        kp2ds = x2ds_dict[k]\n",
    "        if kp2ds is not None:\n",
    "            smpl24_dict[k] = map_op25b_to_smpl24(kp2ds)[...,:2]\n",
    "            draw_kp(im,smpl24_dict[k],fmt='smpl24',color=(0,255,0))\n",
    "        ###step2.visualize\n",
    "        cv2.imshow(str(k), im_rate_resize(im,0.5))\n",
    "        cv2.waitKey(1)\n",
    "#     print(smpl24_dict)\n",
    "    ret = mview_x2ds_to_A.push(frame_index,smpl24_dict)\n",
    "    if ret is not None:\n",
    "        mqtt_player(ret[\"hids\"],ret[\"A\"].reshape(-1,384))\n",
    "    frame_index += 1\n",
    "# cv2.destroyAllWindows()"
   ]
  },
  {
   "cell_type": "code",
   "execution_count": null,
   "metadata": {},
   "outputs": [],
   "source": [
    "cv2.destroyAllWindows()"
   ]
  },
  {
   "cell_type": "code",
   "execution_count": null,
   "metadata": {},
   "outputs": [],
   "source": [
    "# A = mqtt.Client()\n",
    "# A.connect(\"192.168.1.26\", 12222, 300)\n",
    "\n",
    "# kp2ds = np.random.rand(1,25,3)\n",
    "# kp2ds_time = float(datetime.datetime.now().strftime('%H%M%S%f')[0:9])\n",
    "        \n",
    "# M = kp2ds.shape[0]\n",
    "# msg = struct.pack(f'1f1i{M*25*3}f', kp2ds_time, M, *kp2ds.reshape((-1)))\n",
    "\n",
    "# A.publish('multiple_op_0', msg, 0)"
   ]
  }
 ],
 "metadata": {
  "kernelspec": {
   "display_name": "Python 3",
   "language": "python",
   "name": "python3"
  },
  "language_info": {
   "codemirror_mode": {
    "name": "ipython",
    "version": 3
   },
   "file_extension": ".py",
   "mimetype": "text/x-python",
   "name": "python",
   "nbconvert_exporter": "python",
   "pygments_lexer": "ipython3",
   "version": "3.7.0"
  }
 },
 "nbformat": 4,
 "nbformat_minor": 4
}
