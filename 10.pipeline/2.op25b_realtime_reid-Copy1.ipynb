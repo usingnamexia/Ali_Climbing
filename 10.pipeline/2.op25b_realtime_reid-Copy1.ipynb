{
 "cells": [
  {
   "cell_type": "code",
   "execution_count": 1,
   "metadata": {},
   "outputs": [],
   "source": [
    "import sys\n",
    "import os\n",
    "\n",
    "import cv2\n",
    "import numpy as np\n",
    "import torch\n",
    "import yaml\n",
    "\n",
    "sys.path.append(\"../0.mc_utils/\")\n",
    "\n",
    "from pipeline.global_cfg import CFG_SINGLE\n",
    "from pipeline.realtime_single import PipelineRealtimeReID"
   ]
  },
  {
   "cell_type": "code",
   "execution_count": 2,
   "metadata": {},
   "outputs": [
    {
     "name": "stdout",
     "output_type": "stream",
     "text": [
      "HMR_SINGLE:\n",
      "  device: cuda:0\n",
      "  fix_joints: [15, 20, 21, 22, 23]\n",
      "  hmr:\n",
      "    block_features: 2048\n",
      "    blocks: 4\n",
      "    final_features: 512\n",
      "    in_features: 48\n",
      "    model: ../12.models/mchmr2/20200527-hmrzero-b4f2048s10-vposer0420-newmask.pth\n",
      "    out_features: 48\n",
      "  torso:\n",
      "    block_features: 512\n",
      "    blocks: 2\n",
      "    final_features: 128\n",
      "    in_features: 16\n",
      "    in_joints: [1, 2, 4, 5, 16, 17, 18, 19]\n",
      "    model: ../12.models/mchmr2/20200522-torso-b2f512f128.pth\n",
      "    out_features: 6\n",
      "    out_joints: [0, 6, 12]\n",
      "  vposer:\n",
      "    block_features: 1024\n",
      "    blocks: 3\n",
      "    latents: 32\n",
      "    model: ../12.models/mchmr2/20200420-vposer1024-lt32b3.pth\n",
      "K: [1140, 1140, 400, 300]\n",
      "OP:\n",
      "  cmd_path: ../2.bins/op_mc_build/bin/16_synchronous_custom_output.exe\n",
      "  fps_max: 30\n",
      "  model_dir: ../12.models/op25b/\n",
      "  net_resolution: 304\n",
      "  num_gpu_start: 0\n",
      "  num_gpus: -1\n",
      "  num_people_max: 4\n",
      "  startup_wait_timeout: 9\n",
      "  threshold: 0.1\n",
      "REID:\n",
      "  cleanup_interval: 30\n",
      "  feature_wts: 10000.0\n",
      "  max_cost: 10000.0\n",
      "  max_hp: 300\n",
      "UNITY3D:\n",
      "  host: 127.0.0.1\n",
      "  port: 12222\n",
      "  topic: mc3d_msg\n",
      "traj_offset: [0.0, -1.0, 0.0]\n"
     ]
    }
   ],
   "source": [
    "CFG_SINGLE.defrost()\n",
    "CFG_SINGLE.OP.net_resolution=304\n",
    "CFG_SINGLE.OP.num_people_max=4\n",
    "CFG_SINGLE.OP.threshold = 0.1\n",
    "CFG_SINGLE.OP.fps_max = 30\n",
    "\n",
    "CFG_SINGLE.REID.max_hp = 300\n",
    "CFG_SINGLE.REID.max_cost = 1e4\n",
    "\n",
    "CFG_SINGLE.HMR_SINGLE.fix_joints=[15,20,21,22,23]\n",
    "CFG_SINGLE.HMR_SINGLE.hmr.model=\"../12.models/mchmr2/20200527-hmrzero-b4f2048s10-vposer0420-newmask.pth\"\n",
    "\n",
    "CFG_SINGLE.K = [1140,1140,400,300]\n",
    "CFG_SINGLE.freeze()\n",
    "print(CFG_SINGLE)"
   ]
  },
  {
   "cell_type": "code",
   "execution_count": 9,
   "metadata": {},
   "outputs": [
    {
     "name": "stdout",
     "output_type": "stream",
     "text": [
      ">>>Loaded HMR from:../12.models/mchmr2/20200527-hmrzero-b4f2048s10-vposer0420-newmask.pth\n",
      ">>>Loaded VPoser from:../12.models/mchmr2/20200420-vposer1024-lt32b3.pth\n",
      "Serial Port [COM9] is OK\n",
      ">>>processing input video:800x600 of -1 frames.\n",
      ">>>>executed:D:\\20200428-syp\\20200520-3dat-v2.1\\2.bins\\op_mc_build\\bin\\16_synchronous_custom_output.exe -model_folder D:\\20200428-syp\\20200520-3dat-v2.1\\12.models\\op25b\\ -model_pose BODY_25B -num_gpu -1 -num_gpu_start 0 -number_people_max 4 -net_resolution -1x304 -fps_max 30 -camera 700 -camera_resolution 800x600\n",
      ">>>Wait for producer data in 0 sec.....\n",
      ">>>Running in ASYNC mode.\n",
      "\n"
     ]
    }
   ],
   "source": [
    "nb_realtime = PipelineRealtimeReID(cfg=CFG_SINGLE,async_mode=True,imu_com='COM9')\n",
    "\n",
    "# nb_realtime(camera=700,camera_resolution=\"1280x720\")\n",
    "nb_realtime(camera=700,camera_resolution=\"800x600\")\n",
    "# nb_realtime(video=\"E:/4.test_videos/basket_1.mp4\")\n",
    "# nb_realtime(video=\"E:/4.test_videos/4.shotput/cap_20190227_110117_c400260.mp4\")"
   ]
  },
  {
   "cell_type": "code",
   "execution_count": 10,
   "metadata": {},
   "outputs": [],
   "source": [
    "##800x600\n",
    "nb_realtime.traj_offset = [0,0.25,0]\n",
    "nb_realtime.imu_offset = 25\n",
    "\n",
    "##1280x720\n",
    "# nb_realtime.traj_offset = [0,0.2,0]\n",
    "# nb_realtime.imu_offset = 19"
   ]
  },
  {
   "cell_type": "code",
   "execution_count": 11,
   "metadata": {},
   "outputs": [
    {
     "name": "stdout",
     "output_type": "stream",
     "text": [
      ">>>>executed:taskkill.exe /IM 16_synchronous_custom_output.exe /F\n",
      "\n",
      ">>>Cleared ReID dict instances.\n",
      "\n",
      ">>>Cleared ReID dict instances.\n",
      "\n",
      ">>>Cleared ReID dict instances.\n",
      "\n",
      ">>>Cleared ReID dict instances.\n",
      ">>>mpu6050 thread stopped.\n"
     ]
    }
   ],
   "source": [
    "nb_realtime.stop()"
   ]
  },
  {
   "cell_type": "code",
   "execution_count": null,
   "metadata": {},
   "outputs": [],
   "source": []
  }
 ],
 "metadata": {
  "kernelspec": {
   "display_name": "Python 3",
   "language": "python",
   "name": "python3"
  },
  "language_info": {
   "codemirror_mode": {
    "name": "ipython",
    "version": 3
   },
   "file_extension": ".py",
   "mimetype": "text/x-python",
   "name": "python",
   "nbconvert_exporter": "python",
   "pygments_lexer": "ipython3",
   "version": "3.7.1"
  }
 },
 "nbformat": 4,
 "nbformat_minor": 4
}
