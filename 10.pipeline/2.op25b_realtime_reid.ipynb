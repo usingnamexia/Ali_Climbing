{
 "cells": [
  {
   "cell_type": "code",
   "execution_count": 1,
   "metadata": {},
   "outputs": [],
   "source": [
    "import sys\n",
    "import os\n",
    "import cv2\n",
    "import numpy as np\n",
    "import torch\n",
    "import yaml\n",
    "sys.path.append(\"../0.mc_utils/\")\n",
    "from pipeline.global_cfg import CFG_SINGLE\n",
    "from pipeline.realtime_single import PipelineRealtimeReID"
   ]
  },
  {
   "cell_type": "code",
   "execution_count": 2,
   "metadata": {},
   "outputs": [
    {
     "name": "stdout",
     "output_type": "stream",
     "text": [
      "HMR:\n",
      "  device: cuda:0\n",
      "  fix_joints: [15, 20, 21, 22, 23]\n",
      "  hmr:\n",
      "    block_features: 2048\n",
      "    blocks: 4\n",
      "    final_features: 512\n",
      "    in_features: 48\n",
      "    model: ../12.models/mchmr2/20200516-hmrzero-b4f2048s10-vposer0420.pth\n",
      "    out_features: 48\n",
      "  vposer:\n",
      "    block_features: 1024\n",
      "    blocks: 3\n",
      "    latents: 32\n",
      "    model: ../12.models/mchmr2/20200420-vposer1024-lt32b3.pth\n",
      "K: [1100.0, 1100.0, 400, 300]\n",
      "MQTT_TX_UNITY:\n",
      "  host: 127.0.0.1\n",
      "  port: 12222\n",
      "  topic: mc3d_msg\n",
      "OP:\n",
      "  cmd_path: ../2.bins/op_mc_build/bin/16_synchronous_custom_output.exe\n",
      "  fps_max: -1\n",
      "  model_dir: ../12.models/op25b/\n",
      "  net_resolution: 304\n",
      "  num_gpu_start: 0\n",
      "  num_gpus: -1\n",
      "  num_people_max: 2\n",
      "  startup_wait_timeout: 9\n",
      "  threshold: 0.1\n",
      "REID:\n",
      "  cleanup_interval: 30\n",
      "  max_cost: 300.0\n",
      "  max_hp: 300\n",
      "enable_pose_smoothing: True\n",
      "frame_scale: 0.5\n",
      "traj_offset: [0.0, -1.0, 0.0]\n"
     ]
    }
   ],
   "source": [
    "CFG_SINGLE.defrost()\n",
    "\n",
    "CFG_SINGLE.OP.net_resolution=304\n",
    "CFG_SINGLE.OP.num_people_max=2\n",
    "CFG_SINGLE.OP.threshold = 0.1\n",
    "CFG_SINGLE.OP.fps_max = -1\n",
    "\n",
    "##2D->3D posing\n",
    "CFG_SINGLE.HMR.fix_joints=[15,20,21,22,23]\n",
    "\n",
    "##REID\n",
    "CFG_SINGLE.REID.max_hp = 300\n",
    "# CFG_SINGLE.REID.max_cost = 1e4\n",
    "\n",
    "##SMOOTHING and common connfig\n",
    "CFG_SINGLE.enable_pose_smoothing = True\n",
    "CFG_SINGLE.frame_scale = 0.5\n",
    "CFG_SINGLE.K = [1100.0,1100.0,400,300]\n",
    "\n",
    "CFG_SINGLE.freeze()\n",
    "print(CFG_SINGLE)"
   ]
  },
  {
   "cell_type": "code",
   "execution_count": 3,
   "metadata": {},
   "outputs": [
    {
     "name": "stdout",
     "output_type": "stream",
     "text": [
      ">>>Loaded HMR from:../12.models/mchmr2/20200516-hmrzero-b4f2048s10-vposer0420.pth\n",
      ">>>Loaded VPoser from:../12.models/mchmr2/20200420-vposer1024-lt32b3.pth\n",
      ">>>processing input video:1280x720 of -1 frames.\n",
      ">>>>executed:D:\\XiaHaiPeng\\20200520-3dat-v2.1\\2.bins\\op_mc_build\\bin\\16_synchronous_custom_output.exe -model_folder D:\\XiaHaiPeng\\20200520-3dat-v2.1\\12.models\\op25b -model_pose BODY_25B -num_gpu -1 -num_gpu_start 0 -number_people_max 2 -net_resolution -1x304 -fps_max -1 -camera 700 -camera_resolution 1280x720\n",
      ">>>Wait for producer data in 0 sec.....\n",
      ">>>Runing in SYNC mode.\n",
      "\n",
      ">>>Keyboad exit.\n",
      ">>>>executed:taskkill.exe /IM 16_synchronous_custom_output.exe /F\n",
      "\n",
      ">>>Cleared ReID dict instances.\n",
      "\n",
      ">>>Cleared ReID dict instances.\n"
     ]
    }
   ],
   "source": [
    "#import glob\n",
    "# nb_realtime = PipelineRealtimeReID(cfg=CFG_SINGLE,async_mode=False,imu_com='COM5')\n",
    "#my_wide_bili,my_len_bili,my_show_lines,my_alpha,size_bili\n",
    "nb_realtime = PipelineRealtimeReID(2.5,1.2,0,0.5,0.8,cfg=CFG_SINGLE,async_mode=False,imu_com=None)\n",
    "#for name in glob.glob('D:/XiaHaiPeng/test_video/CLIP/*.mp4'):\n",
    "#nb_realtime(camera=700,camera_resolution=\"800x600\")    \n",
    "nb_realtime(camera=700,camera_resolution=\"1280x720\")\n",
    "#    nb_realtime(video=name)\n",
    "#nb_realtime(video=\"D:/XiaHaiPeng/Funny_Flowrider_Wipeout_Compilation.mp4\")\n",
    "#nb_realtime.out.release()\n",
    "#nb_realtime(video=\"E:/冲浪/surfing_real.mp4\")\n",
    "# nb_realtime(video=\"E:/4.test_videos/WeChat_20190906152423.mp4\")"
   ]
  },
  {
   "cell_type": "code",
   "execution_count": null,
   "metadata": {},
   "outputs": [],
   "source": [
    "# nb_realtime.traj_offset = [0, 0.05, 0]  #(x, y, z)\n",
    "# nb_realtime.imu_offset = 15  # lower is up"
   ]
  },
  {
   "cell_type": "code",
   "execution_count": 5,
   "metadata": {},
   "outputs": [
    {
     "name": "stdout",
     "output_type": "stream",
     "text": [
      "\n",
      ">>>Cleared ReID dict instances.\n",
      "\n",
      ">>>Cleared ReID dict instances.\n"
     ]
    }
   ],
   "source": [
    "nb_realtime.stop()"
   ]
  },
  {
   "cell_type": "code",
   "execution_count": null,
   "metadata": {},
   "outputs": [],
   "source": []
  },
  {
   "cell_type": "code",
   "execution_count": null,
   "metadata": {},
   "outputs": [],
   "source": []
  },
  {
   "cell_type": "code",
   "execution_count": null,
   "metadata": {},
   "outputs": [],
   "source": []
  }
 ],
 "metadata": {
  "kernelspec": {
   "display_name": "Python 3",
   "language": "python",
   "name": "python3"
  },
  "language_info": {
   "codemirror_mode": {
    "name": "ipython",
    "version": 3
   },
   "file_extension": ".py",
   "mimetype": "text/x-python",
   "name": "python",
   "nbconvert_exporter": "python",
   "pygments_lexer": "ipython3",
   "version": "3.7.0"
  }
 },
 "nbformat": 4,
 "nbformat_minor": 4
}
